{
 "cells": [
  {
   "cell_type": "markdown",
   "id": "f8c7240c",
   "metadata": {},
   "source": [
    "## Exercise Description:\n",
    "\n",
    "Using the dataset given below, answer the following questions."
   ]
  },
  {
   "cell_type": "code",
   "execution_count": 3,
   "id": "55658149",
   "metadata": {},
   "outputs": [
    {
     "data": {
      "text/html": [
       "<div>\n",
       "<style scoped>\n",
       "    .dataframe tbody tr th:only-of-type {\n",
       "        vertical-align: middle;\n",
       "    }\n",
       "\n",
       "    .dataframe tbody tr th {\n",
       "        vertical-align: top;\n",
       "    }\n",
       "\n",
       "    .dataframe thead th {\n",
       "        text-align: right;\n",
       "    }\n",
       "</style>\n",
       "<table border=\"1\" class=\"dataframe\">\n",
       "  <thead>\n",
       "    <tr style=\"text-align: right;\">\n",
       "      <th></th>\n",
       "      <th>State</th>\n",
       "      <th>Governor</th>\n",
       "      <th>Region</th>\n",
       "      <th>Years_Created</th>\n",
       "    </tr>\n",
       "  </thead>\n",
       "  <tbody>\n",
       "    <tr>\n",
       "      <th>0</th>\n",
       "      <td>Edo</td>\n",
       "      <td>Obaseki</td>\n",
       "      <td>South</td>\n",
       "      <td>20</td>\n",
       "    </tr>\n",
       "    <tr>\n",
       "      <th>1</th>\n",
       "      <td>Delta</td>\n",
       "      <td>Okwa</td>\n",
       "      <td>South</td>\n",
       "      <td>20</td>\n",
       "    </tr>\n",
       "    <tr>\n",
       "      <th>2</th>\n",
       "      <td>Imo</td>\n",
       "      <td>Hope</td>\n",
       "      <td>South</td>\n",
       "      <td>10</td>\n",
       "    </tr>\n",
       "    <tr>\n",
       "      <th>3</th>\n",
       "      <td>Lagos</td>\n",
       "      <td>Sanwolu</td>\n",
       "      <td>West</td>\n",
       "      <td>80</td>\n",
       "    </tr>\n",
       "    <tr>\n",
       "      <th>4</th>\n",
       "      <td>Anambra</td>\n",
       "      <td>Soludo</td>\n",
       "      <td>East</td>\n",
       "      <td>16</td>\n",
       "    </tr>\n",
       "    <tr>\n",
       "      <th>5</th>\n",
       "      <td>Ekiti</td>\n",
       "      <td>Fayemi</td>\n",
       "      <td>West</td>\n",
       "      <td>16</td>\n",
       "    </tr>\n",
       "    <tr>\n",
       "      <th>6</th>\n",
       "      <td>Kano</td>\n",
       "      <td>Ganduje</td>\n",
       "      <td>North</td>\n",
       "      <td>20</td>\n",
       "    </tr>\n",
       "    <tr>\n",
       "      <th>7</th>\n",
       "      <td>Kaduna</td>\n",
       "      <td>Elruai</td>\n",
       "      <td>North</td>\n",
       "      <td>80</td>\n",
       "    </tr>\n",
       "    <tr>\n",
       "      <th>8</th>\n",
       "      <td>Ondo</td>\n",
       "      <td>Adebayo</td>\n",
       "      <td>West</td>\n",
       "      <td>15</td>\n",
       "    </tr>\n",
       "  </tbody>\n",
       "</table>\n",
       "</div>"
      ],
      "text/plain": [
       "     State Governor Region  Years_Created\n",
       "0      Edo  Obaseki  South             20\n",
       "1    Delta     Okwa  South             20\n",
       "2      Imo     Hope  South             10\n",
       "3    Lagos  Sanwolu   West             80\n",
       "4  Anambra   Soludo   East             16\n",
       "5    Ekiti   Fayemi   West             16\n",
       "6     Kano  Ganduje  North             20\n",
       "7   Kaduna   Elruai  North             80\n",
       "8     Ondo  Adebayo   West             15"
      ]
     },
     "execution_count": 3,
     "metadata": {},
     "output_type": "execute_result"
    }
   ],
   "source": [
    "import pandas as pd\n",
    "\n",
    "df = pd.DataFrame([['Edo','Obaseki','South',20],['Delta','Okwa','South',20],['Imo','Hope','South',10],['Lagos','Sanwolu','West',80],\n",
    "                   ['Anambra','Soludo','East',16],['Ekiti','Fayemi','West',16],['Kano','Ganduje','North',20],['Kaduna','Elruai','North',80],['Ondo','Adebayo','West', 15]],\n",
    "                   columns=['State','Governor','Region','Years_Created'])\n",
    "df"
   ]
  },
  {
   "cell_type": "markdown",
   "id": "0fa3d472",
   "metadata": {},
   "source": [
    "### Question One: \n",
    "Extract the states that are in the North region."
   ]
  },
  {
   "cell_type": "code",
   "execution_count": null,
   "id": "68a16abb",
   "metadata": {},
   "outputs": [],
   "source": []
  },
  {
   "cell_type": "markdown",
   "id": "00378bcb",
   "metadata": {},
   "source": [
    "### Question Two:\n",
    "\n",
    "Soludo is governor of which state?"
   ]
  },
  {
   "cell_type": "code",
   "execution_count": null,
   "id": "9886d07e",
   "metadata": {},
   "outputs": [],
   "source": []
  },
  {
   "cell_type": "markdown",
   "id": "10cf7a0e",
   "metadata": {},
   "source": [
    "### Question Three:\n",
    "\n",
    "Which states were created 20 years ago?"
   ]
  },
  {
   "cell_type": "code",
   "execution_count": null,
   "id": "10479f7f",
   "metadata": {},
   "outputs": [],
   "source": []
  },
  {
   "cell_type": "markdown",
   "id": "68df4657",
   "metadata": {},
   "source": [
    "### Question Four:\n",
    "\n",
    "Which states were created over 15 years ago? "
   ]
  },
  {
   "cell_type": "code",
   "execution_count": null,
   "id": "2a8bceaf",
   "metadata": {},
   "outputs": [],
   "source": []
  },
  {
   "cell_type": "markdown",
   "id": "bf1e29b9",
   "metadata": {},
   "source": [
    "### Question Five:\n",
    "\n",
    "The governor of Edo state is?"
   ]
  },
  {
   "cell_type": "code",
   "execution_count": null,
   "id": "87b8ef1f",
   "metadata": {},
   "outputs": [],
   "source": []
  },
  {
   "cell_type": "markdown",
   "id": "63a4a3ba",
   "metadata": {},
   "source": [
    "Once done with the assignment kindly tag me to your reply tweet on twitter with a link to your solution and I will check it out."
   ]
  }
 ],
 "metadata": {
  "kernelspec": {
   "display_name": "Python 3",
   "language": "python",
   "name": "python3"
  },
  "language_info": {
   "codemirror_mode": {
    "name": "ipython",
    "version": 3
   },
   "file_extension": ".py",
   "mimetype": "text/x-python",
   "name": "python",
   "nbconvert_exporter": "python",
   "pygments_lexer": "ipython3",
   "version": "3.8.8"
  }
 },
 "nbformat": 4,
 "nbformat_minor": 5
}
